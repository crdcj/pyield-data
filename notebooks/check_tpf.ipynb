{
 "cells": [
  {
   "cell_type": "code",
   "execution_count": 1,
   "metadata": {},
   "outputs": [
    {
     "data": {
      "text/html": [
       "<div><style>\n",
       ".dataframe > thead > tr,\n",
       ".dataframe > tbody > tr {\n",
       "  text-align: right;\n",
       "  white-space: pre-wrap;\n",
       "}\n",
       "</style>\n",
       "<small>shape: (65_492, 14)</small><table border=\"1\" class=\"dataframe\"><thead><tr><th>ReferenceDate</th><th>BondType</th><th>SelicCode</th><th>IssueBaseDate</th><th>MaturityDate</th><th>BDToMat</th><th>Duration</th><th>DV01</th><th>DV01USD</th><th>Price</th><th>BidRate</th><th>AskRate</th><th>IndicativeRate</th><th>DIRate</th></tr><tr><td>date</td><td>str</td><td>i64</td><td>date</td><td>date</td><td>i64</td><td>f64</td><td>f64</td><td>f64</td><td>f64</td><td>f64</td><td>f64</td><td>f64</td><td>f64</td></tr></thead><tbody><tr><td>2020-01-02</td><td>&quot;LFT&quot;</td><td>210100</td><td>2000-07-01</td><td>2020-03-01</td><td>40</td><td>0.0</td><td>0.0</td><td>0.0</td><td>10471.849015</td><td>null</td><td>null</td><td>0.000023</td><td>0.04375</td></tr><tr><td>2020-01-02</td><td>&quot;LFT&quot;</td><td>210100</td><td>2000-07-01</td><td>2020-09-01</td><td>167</td><td>0.0</td><td>0.0</td><td>0.0</td><td>10471.723352</td><td>null</td><td>null</td><td>0.000023</td><td>0.04344</td></tr><tr><td>2020-01-02</td><td>&quot;LFT&quot;</td><td>210100</td><td>2000-07-01</td><td>2021-03-01</td><td>289</td><td>0.0</td><td>0.0</td><td>0.0</td><td>10471.356836</td><td>null</td><td>null</td><td>0.000044</td><td>0.046359</td></tr><tr><td>2020-01-02</td><td>&quot;LFT&quot;</td><td>210100</td><td>2000-07-01</td><td>2021-09-01</td><td>418</td><td>0.0</td><td>0.0</td><td>0.0</td><td>10470.917017</td><td>null</td><td>null</td><td>0.000056</td><td>0.050221</td></tr><tr><td>2020-01-02</td><td>&quot;LFT&quot;</td><td>210100</td><td>2000-07-01</td><td>2022-03-01</td><td>542</td><td>0.0</td><td>0.0</td><td>0.0</td><td>10470.016434</td><td>null</td><td>null</td><td>0.000083</td><td>0.053607</td></tr><tr><td>&hellip;</td><td>&hellip;</td><td>&hellip;</td><td>&hellip;</td><td>&hellip;</td><td>&hellip;</td><td>&hellip;</td><td>&hellip;</td><td>&hellip;</td><td>&hellip;</td><td>&hellip;</td><td>&hellip;</td><td>&hellip;</td><td>&hellip;</td></tr><tr><td>2025-10-13</td><td>&quot;NTN-F&quot;</td><td>950199</td><td>2016-01-15</td><td>2027-01-01</td><td>305</td><td>1.140141</td><td>0.098745</td><td>0.018077</td><td>987.128261</td><td>0.139885</td><td>0.139678</td><td>0.139772</td><td>0.14008</td></tr><tr><td>2025-10-13</td><td>&quot;NTN-F&quot;</td><td>950199</td><td>2018-01-05</td><td>2029-01-01</td><td>804</td><td>2.717514</td><td>0.226028</td><td>0.041377</td><td>944.329353</td><td>0.135447</td><td>0.135252</td><td>0.135356</td><td>0.13393</td></tr><tr><td>2025-10-13</td><td>&quot;NTN-F&quot;</td><td>950199</td><td>2020-01-10</td><td>2031-01-01</td><td>1305</td><td>3.972379</td><td>0.312788</td><td>0.05726</td><td>896.615008</td><td>0.138764</td><td>0.138622</td><td>0.138694</td><td>0.13666</td></tr><tr><td>2025-10-13</td><td>&quot;NTN-F&quot;</td><td>950199</td><td>2022-01-07</td><td>2033-01-01</td><td>1809</td><td>4.951494</td><td>0.374337</td><td>0.068527</td><td>861.532008</td><td>0.139735</td><td>0.139478</td><td>0.139581</td><td>0.13808</td></tr><tr><td>2025-10-13</td><td>&quot;NTN-F&quot;</td><td>950199</td><td>2024-01-05</td><td>2035-01-01</td><td>2308</td><td>5.688968</td><td>0.416487</td><td>0.076243</td><td>834.757774</td><td>0.140298</td><td>0.140144</td><td>0.14023</td><td>0.13818</td></tr></tbody></table></div>"
      ],
      "text/plain": [
       "shape: (65_492, 14)\n",
       "┌────────────┬──────────┬───────────┬────────────┬───┬──────────┬──────────┬────────────┬──────────┐\n",
       "│ ReferenceD ┆ BondType ┆ SelicCode ┆ IssueBaseD ┆ … ┆ BidRate  ┆ AskRate  ┆ Indicative ┆ DIRate   │\n",
       "│ ate        ┆ ---      ┆ ---       ┆ ate        ┆   ┆ ---      ┆ ---      ┆ Rate       ┆ ---      │\n",
       "│ ---        ┆ str      ┆ i64       ┆ ---        ┆   ┆ f64      ┆ f64      ┆ ---        ┆ f64      │\n",
       "│ date       ┆          ┆           ┆ date       ┆   ┆          ┆          ┆ f64        ┆          │\n",
       "╞════════════╪══════════╪═══════════╪════════════╪═══╪══════════╪══════════╪════════════╪══════════╡\n",
       "│ 2020-01-02 ┆ LFT      ┆ 210100    ┆ 2000-07-01 ┆ … ┆ null     ┆ null     ┆ 0.000023   ┆ 0.04375  │\n",
       "│ 2020-01-02 ┆ LFT      ┆ 210100    ┆ 2000-07-01 ┆ … ┆ null     ┆ null     ┆ 0.000023   ┆ 0.04344  │\n",
       "│ 2020-01-02 ┆ LFT      ┆ 210100    ┆ 2000-07-01 ┆ … ┆ null     ┆ null     ┆ 0.000044   ┆ 0.046359 │\n",
       "│ 2020-01-02 ┆ LFT      ┆ 210100    ┆ 2000-07-01 ┆ … ┆ null     ┆ null     ┆ 0.000056   ┆ 0.050221 │\n",
       "│ 2020-01-02 ┆ LFT      ┆ 210100    ┆ 2000-07-01 ┆ … ┆ null     ┆ null     ┆ 0.000083   ┆ 0.053607 │\n",
       "│ …          ┆ …        ┆ …         ┆ …          ┆ … ┆ …        ┆ …        ┆ …          ┆ …        │\n",
       "│ 2025-10-13 ┆ NTN-F    ┆ 950199    ┆ 2016-01-15 ┆ … ┆ 0.139885 ┆ 0.139678 ┆ 0.139772   ┆ 0.14008  │\n",
       "│ 2025-10-13 ┆ NTN-F    ┆ 950199    ┆ 2018-01-05 ┆ … ┆ 0.135447 ┆ 0.135252 ┆ 0.135356   ┆ 0.13393  │\n",
       "│ 2025-10-13 ┆ NTN-F    ┆ 950199    ┆ 2020-01-10 ┆ … ┆ 0.138764 ┆ 0.138622 ┆ 0.138694   ┆ 0.13666  │\n",
       "│ 2025-10-13 ┆ NTN-F    ┆ 950199    ┆ 2022-01-07 ┆ … ┆ 0.139735 ┆ 0.139478 ┆ 0.139581   ┆ 0.13808  │\n",
       "│ 2025-10-13 ┆ NTN-F    ┆ 950199    ┆ 2024-01-05 ┆ … ┆ 0.140298 ┆ 0.140144 ┆ 0.14023    ┆ 0.13818  │\n",
       "└────────────┴──────────┴───────────┴────────────┴───┴──────────┴──────────┴────────────┴──────────┘"
      ]
     },
     "execution_count": 1,
     "metadata": {},
     "output_type": "execute_result"
    }
   ],
   "source": [
    "import polars as pl\n",
    "\n",
    "df = pl.read_parquet(\"../data/anbima_tpf.parquet\")\n",
    "df"
   ]
  },
  {
   "cell_type": "code",
   "execution_count": 2,
   "metadata": {},
   "outputs": [
    {
     "data": {
      "text/plain": [
       "Schema([('ReferenceDate', Date),\n",
       "        ('BondType', String),\n",
       "        ('SelicCode', Int64),\n",
       "        ('IssueBaseDate', Date),\n",
       "        ('MaturityDate', Date),\n",
       "        ('BDToMat', Int64),\n",
       "        ('Duration', Float64),\n",
       "        ('DV01', Float64),\n",
       "        ('DV01USD', Float64),\n",
       "        ('Price', Float64),\n",
       "        ('BidRate', Float64),\n",
       "        ('AskRate', Float64),\n",
       "        ('IndicativeRate', Float64),\n",
       "        ('DIRate', Float64)])"
      ]
     },
     "execution_count": 2,
     "metadata": {},
     "output_type": "execute_result"
    }
   ],
   "source": [
    "df.schema"
   ]
  },
  {
   "cell_type": "code",
   "execution_count": null,
   "metadata": {},
   "outputs": [],
   "source": [
    "# df.write_parquet(\"../data/anbima_tpf_test.parquet\", compression=\"gzip\")"
   ]
  }
 ],
 "metadata": {
  "kernelspec": {
   "display_name": "pyield-data",
   "language": "python",
   "name": "python3"
  },
  "language_info": {
   "codemirror_mode": {
    "name": "ipython",
    "version": 3
   },
   "file_extension": ".py",
   "mimetype": "text/x-python",
   "name": "python",
   "nbconvert_exporter": "python",
   "pygments_lexer": "ipython3",
   "version": "3.13.7"
  }
 },
 "nbformat": 4,
 "nbformat_minor": 2
}
