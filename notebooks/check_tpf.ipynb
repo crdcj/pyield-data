{
 "cells": [
  {
   "cell_type": "code",
   "execution_count": 1,
   "metadata": {},
   "outputs": [
    {
     "data": {
      "text/html": [
       "<div><style>\n",
       ".dataframe > thead > tr,\n",
       ".dataframe > tbody > tr {\n",
       "  text-align: right;\n",
       "  white-space: pre-wrap;\n",
       "}\n",
       "</style>\n",
       "<small>shape: (65_924, 14)</small><table border=\"1\" class=\"dataframe\"><thead><tr><th>ReferenceDate</th><th>BondType</th><th>SelicCode</th><th>IssueBaseDate</th><th>MaturityDate</th><th>BDToMat</th><th>Duration</th><th>DV01</th><th>DV01USD</th><th>Price</th><th>BidRate</th><th>AskRate</th><th>IndicativeRate</th><th>DIRate</th></tr><tr><td>date</td><td>str</td><td>i64</td><td>date</td><td>date</td><td>i64</td><td>f64</td><td>f64</td><td>f64</td><td>f64</td><td>f64</td><td>f64</td><td>f64</td><td>f64</td></tr></thead><tbody><tr><td>2020-01-02</td><td>&quot;LFT&quot;</td><td>210100</td><td>2000-07-01</td><td>2020-03-01</td><td>40</td><td>0.0</td><td>0.0</td><td>0.0</td><td>10471.849015</td><td>null</td><td>null</td><td>0.000023</td><td>0.04375</td></tr><tr><td>2020-01-02</td><td>&quot;LFT&quot;</td><td>210100</td><td>2000-07-01</td><td>2020-09-01</td><td>167</td><td>0.0</td><td>0.0</td><td>0.0</td><td>10471.723352</td><td>null</td><td>null</td><td>0.000023</td><td>0.04344</td></tr><tr><td>2020-01-02</td><td>&quot;LFT&quot;</td><td>210100</td><td>2000-07-01</td><td>2021-03-01</td><td>289</td><td>0.0</td><td>0.0</td><td>0.0</td><td>10471.356836</td><td>null</td><td>null</td><td>0.000044</td><td>0.046359</td></tr><tr><td>2020-01-02</td><td>&quot;LFT&quot;</td><td>210100</td><td>2000-07-01</td><td>2021-09-01</td><td>418</td><td>0.0</td><td>0.0</td><td>0.0</td><td>10470.917017</td><td>null</td><td>null</td><td>0.000056</td><td>0.050221</td></tr><tr><td>2020-01-02</td><td>&quot;LFT&quot;</td><td>210100</td><td>2000-07-01</td><td>2022-03-01</td><td>542</td><td>0.0</td><td>0.0</td><td>0.0</td><td>10470.016434</td><td>null</td><td>null</td><td>0.000083</td><td>0.053607</td></tr><tr><td>&hellip;</td><td>&hellip;</td><td>&hellip;</td><td>&hellip;</td><td>&hellip;</td><td>&hellip;</td><td>&hellip;</td><td>&hellip;</td><td>&hellip;</td><td>&hellip;</td><td>&hellip;</td><td>&hellip;</td><td>&hellip;</td><td>&hellip;</td></tr><tr><td>2025-10-24</td><td>&quot;NTN-F&quot;</td><td>950199</td><td>2016-01-15</td><td>2027-01-01</td><td>296</td><td>1.104514</td><td>0.096439</td><td>0.017927</td><td>993.543875</td><td>0.13801</td><td>0.13781</td><td>0.13791</td><td>0.13821</td></tr><tr><td>2025-10-24</td><td>&quot;NTN-F&quot;</td><td>950199</td><td>2018-01-05</td><td>2029-01-01</td><td>795</td><td>2.684334</td><td>0.226845</td><td>0.042169</td><td>956.50237</td><td>0.131941</td><td>0.131778</td><td>0.13186</td><td>0.13038</td></tr><tr><td>2025-10-24</td><td>&quot;NTN-F&quot;</td><td>950199</td><td>2020-01-10</td><td>2031-01-01</td><td>1296</td><td>3.945604</td><td>0.31684</td><td>0.058899</td><td>911.623996</td><td>0.135311</td><td>0.135185</td><td>0.135243</td><td>0.13315</td></tr><tr><td>2025-10-24</td><td>&quot;NTN-F&quot;</td><td>950199</td><td>2022-01-07</td><td>2033-01-01</td><td>1800</td><td>4.9338</td><td>0.380942</td><td>0.070815</td><td>877.445493</td><td>0.136558</td><td>0.136308</td><td>0.13643</td><td>0.13478</td></tr><tr><td>2025-10-24</td><td>&quot;NTN-F&quot;</td><td>950199</td><td>2024-01-05</td><td>2035-01-01</td><td>2299</td><td>5.682915</td><td>0.425476</td><td>0.079094</td><td>851.415797</td><td>0.137257</td><td>0.13713</td><td>0.137202</td><td>0.13509</td></tr></tbody></table></div>"
      ],
      "text/plain": [
       "shape: (65_924, 14)\n",
       "┌────────────┬──────────┬───────────┬────────────┬───┬──────────┬──────────┬────────────┬──────────┐\n",
       "│ ReferenceD ┆ BondType ┆ SelicCode ┆ IssueBaseD ┆ … ┆ BidRate  ┆ AskRate  ┆ Indicative ┆ DIRate   │\n",
       "│ ate        ┆ ---      ┆ ---       ┆ ate        ┆   ┆ ---      ┆ ---      ┆ Rate       ┆ ---      │\n",
       "│ ---        ┆ str      ┆ i64       ┆ ---        ┆   ┆ f64      ┆ f64      ┆ ---        ┆ f64      │\n",
       "│ date       ┆          ┆           ┆ date       ┆   ┆          ┆          ┆ f64        ┆          │\n",
       "╞════════════╪══════════╪═══════════╪════════════╪═══╪══════════╪══════════╪════════════╪══════════╡\n",
       "│ 2020-01-02 ┆ LFT      ┆ 210100    ┆ 2000-07-01 ┆ … ┆ null     ┆ null     ┆ 0.000023   ┆ 0.04375  │\n",
       "│ 2020-01-02 ┆ LFT      ┆ 210100    ┆ 2000-07-01 ┆ … ┆ null     ┆ null     ┆ 0.000023   ┆ 0.04344  │\n",
       "│ 2020-01-02 ┆ LFT      ┆ 210100    ┆ 2000-07-01 ┆ … ┆ null     ┆ null     ┆ 0.000044   ┆ 0.046359 │\n",
       "│ 2020-01-02 ┆ LFT      ┆ 210100    ┆ 2000-07-01 ┆ … ┆ null     ┆ null     ┆ 0.000056   ┆ 0.050221 │\n",
       "│ 2020-01-02 ┆ LFT      ┆ 210100    ┆ 2000-07-01 ┆ … ┆ null     ┆ null     ┆ 0.000083   ┆ 0.053607 │\n",
       "│ …          ┆ …        ┆ …         ┆ …          ┆ … ┆ …        ┆ …        ┆ …          ┆ …        │\n",
       "│ 2025-10-24 ┆ NTN-F    ┆ 950199    ┆ 2016-01-15 ┆ … ┆ 0.13801  ┆ 0.13781  ┆ 0.13791    ┆ 0.13821  │\n",
       "│ 2025-10-24 ┆ NTN-F    ┆ 950199    ┆ 2018-01-05 ┆ … ┆ 0.131941 ┆ 0.131778 ┆ 0.13186    ┆ 0.13038  │\n",
       "│ 2025-10-24 ┆ NTN-F    ┆ 950199    ┆ 2020-01-10 ┆ … ┆ 0.135311 ┆ 0.135185 ┆ 0.135243   ┆ 0.13315  │\n",
       "│ 2025-10-24 ┆ NTN-F    ┆ 950199    ┆ 2022-01-07 ┆ … ┆ 0.136558 ┆ 0.136308 ┆ 0.13643    ┆ 0.13478  │\n",
       "│ 2025-10-24 ┆ NTN-F    ┆ 950199    ┆ 2024-01-05 ┆ … ┆ 0.137257 ┆ 0.13713  ┆ 0.137202   ┆ 0.13509  │\n",
       "└────────────┴──────────┴───────────┴────────────┴───┴──────────┴──────────┴────────────┴──────────┘"
      ]
     },
     "execution_count": 1,
     "metadata": {},
     "output_type": "execute_result"
    }
   ],
   "source": [
    "import polars as pl\n",
    "\n",
    "df = pl.read_parquet(\"../data/anbima_tpf.parquet\")\n",
    "df"
   ]
  },
  {
   "cell_type": "code",
   "execution_count": 2,
   "metadata": {},
   "outputs": [
    {
     "data": {
      "text/plain": [
       "Schema([('ReferenceDate', Date),\n",
       "        ('BondType', String),\n",
       "        ('SelicCode', Int64),\n",
       "        ('IssueBaseDate', Date),\n",
       "        ('MaturityDate', Date),\n",
       "        ('BDToMat', Int64),\n",
       "        ('Duration', Float64),\n",
       "        ('DV01', Float64),\n",
       "        ('DV01USD', Float64),\n",
       "        ('Price', Float64),\n",
       "        ('BidRate', Float64),\n",
       "        ('AskRate', Float64),\n",
       "        ('IndicativeRate', Float64),\n",
       "        ('DIRate', Float64)])"
      ]
     },
     "execution_count": 2,
     "metadata": {},
     "output_type": "execute_result"
    }
   ],
   "source": [
    "df.schema"
   ]
  },
  {
   "cell_type": "code",
   "execution_count": null,
   "metadata": {},
   "outputs": [],
   "source": [
    "# df.write_parquet(\"../data/anbima_tpf_test.parquet\", compression=\"gzip\")"
   ]
  }
 ],
 "metadata": {
  "kernelspec": {
   "display_name": "pyield-data",
   "language": "python",
   "name": "python3"
  },
  "language_info": {
   "codemirror_mode": {
    "name": "ipython",
    "version": 3
   },
   "file_extension": ".py",
   "mimetype": "text/x-python",
   "name": "python",
   "nbconvert_exporter": "python",
   "pygments_lexer": "ipython3",
   "version": "3.13.7"
  }
 },
 "nbformat": 4,
 "nbformat_minor": 2
}
