{
 "cells": [
  {
   "cell_type": "code",
   "execution_count": 1,
   "metadata": {},
   "outputs": [
    {
     "data": {
      "text/html": [
       "<div><style>\n",
       ".dataframe > thead > tr,\n",
       ".dataframe > tbody > tr {\n",
       "  text-align: right;\n",
       "  white-space: pre-wrap;\n",
       "}\n",
       "</style>\n",
       "<small>shape: (64_969, 14)</small><table border=\"1\" class=\"dataframe\"><thead><tr><th>ReferenceDate</th><th>BondType</th><th>SelicCode</th><th>IssueBaseDate</th><th>MaturityDate</th><th>BDToMat</th><th>Duration</th><th>DV01</th><th>DV01USD</th><th>Price</th><th>BidRate</th><th>AskRate</th><th>IndicativeRate</th><th>DIRate</th></tr><tr><td>date</td><td>str</td><td>i64</td><td>date</td><td>date</td><td>i64</td><td>f64</td><td>f64</td><td>f64</td><td>f64</td><td>f64</td><td>f64</td><td>f64</td><td>f64</td></tr></thead><tbody><tr><td>2020-01-02</td><td>&quot;LFT&quot;</td><td>210100</td><td>2000-07-01</td><td>2020-03-01</td><td>40</td><td>0.0</td><td>0.0</td><td>0.0</td><td>10471.849015</td><td>null</td><td>null</td><td>0.000023</td><td>0.04375</td></tr><tr><td>2020-01-02</td><td>&quot;LFT&quot;</td><td>210100</td><td>2000-07-01</td><td>2020-09-01</td><td>167</td><td>0.0</td><td>0.0</td><td>0.0</td><td>10471.723352</td><td>null</td><td>null</td><td>0.000023</td><td>0.04344</td></tr><tr><td>2020-01-02</td><td>&quot;LFT&quot;</td><td>210100</td><td>2000-07-01</td><td>2021-03-01</td><td>289</td><td>0.0</td><td>0.0</td><td>0.0</td><td>10471.356836</td><td>null</td><td>null</td><td>0.000044</td><td>0.046359</td></tr><tr><td>2020-01-02</td><td>&quot;LFT&quot;</td><td>210100</td><td>2000-07-01</td><td>2021-09-01</td><td>418</td><td>0.0</td><td>0.0</td><td>0.0</td><td>10470.917017</td><td>null</td><td>null</td><td>0.000056</td><td>0.050221</td></tr><tr><td>2020-01-02</td><td>&quot;LFT&quot;</td><td>210100</td><td>2000-07-01</td><td>2022-03-01</td><td>542</td><td>0.0</td><td>0.0</td><td>0.0</td><td>10470.016434</td><td>null</td><td>null</td><td>0.000083</td><td>0.053607</td></tr><tr><td>&hellip;</td><td>&hellip;</td><td>&hellip;</td><td>&hellip;</td><td>&hellip;</td><td>&hellip;</td><td>&hellip;</td><td>&hellip;</td><td>&hellip;</td><td>&hellip;</td><td>&hellip;</td><td>&hellip;</td><td>&hellip;</td><td>&hellip;</td></tr><tr><td>2025-09-26</td><td>&quot;NTN-F&quot;</td><td>950199</td><td>2016-01-15</td><td>2027-01-01</td><td>316</td><td>1.183773</td><td>0.101861</td><td>0.01906</td><td>981.095396</td><td>0.140261</td><td>0.140067</td><td>0.140176</td><td>0.1404</td></tr><tr><td>2025-09-26</td><td>&quot;NTN-F&quot;</td><td>950199</td><td>2018-01-05</td><td>2029-01-01</td><td>815</td><td>2.762339</td><td>0.229718</td><td>0.042985</td><td>942.821668</td><td>0.133821</td><td>0.133658</td><td>0.133736</td><td>0.13233</td></tr><tr><td>2025-09-26</td><td>&quot;NTN-F&quot;</td><td>950199</td><td>2020-01-10</td><td>2031-01-01</td><td>1316</td><td>4.022404</td><td>0.318373</td><td>0.059574</td><td>899.329522</td><td>0.136306</td><td>0.136171</td><td>0.136234</td><td>0.13433</td></tr><tr><td>2025-09-26</td><td>&quot;NTN-F&quot;</td><td>950199</td><td>2022-01-07</td><td>2033-01-01</td><td>1820</td><td>5.012056</td><td>0.382683</td><td>0.071607</td><td>867.841476</td><td>0.136706</td><td>0.136531</td><td>0.136624</td><td>0.13525</td></tr><tr><td>2025-09-26</td><td>&quot;NTN-F&quot;</td><td>950199</td><td>2024-01-05</td><td>2035-01-01</td><td>2319</td><td>5.764984</td><td>0.427941</td><td>0.080076</td><td>843.951965</td><td>0.137001</td><td>0.136867</td><td>0.136926</td><td>0.13502</td></tr></tbody></table></div>"
      ],
      "text/plain": [
       "shape: (64_969, 14)\n",
       "┌────────────┬──────────┬───────────┬────────────┬───┬──────────┬──────────┬────────────┬──────────┐\n",
       "│ ReferenceD ┆ BondType ┆ SelicCode ┆ IssueBaseD ┆ … ┆ BidRate  ┆ AskRate  ┆ Indicative ┆ DIRate   │\n",
       "│ ate        ┆ ---      ┆ ---       ┆ ate        ┆   ┆ ---      ┆ ---      ┆ Rate       ┆ ---      │\n",
       "│ ---        ┆ str      ┆ i64       ┆ ---        ┆   ┆ f64      ┆ f64      ┆ ---        ┆ f64      │\n",
       "│ date       ┆          ┆           ┆ date       ┆   ┆          ┆          ┆ f64        ┆          │\n",
       "╞════════════╪══════════╪═══════════╪════════════╪═══╪══════════╪══════════╪════════════╪══════════╡\n",
       "│ 2020-01-02 ┆ LFT      ┆ 210100    ┆ 2000-07-01 ┆ … ┆ null     ┆ null     ┆ 0.000023   ┆ 0.04375  │\n",
       "│ 2020-01-02 ┆ LFT      ┆ 210100    ┆ 2000-07-01 ┆ … ┆ null     ┆ null     ┆ 0.000023   ┆ 0.04344  │\n",
       "│ 2020-01-02 ┆ LFT      ┆ 210100    ┆ 2000-07-01 ┆ … ┆ null     ┆ null     ┆ 0.000044   ┆ 0.046359 │\n",
       "│ 2020-01-02 ┆ LFT      ┆ 210100    ┆ 2000-07-01 ┆ … ┆ null     ┆ null     ┆ 0.000056   ┆ 0.050221 │\n",
       "│ 2020-01-02 ┆ LFT      ┆ 210100    ┆ 2000-07-01 ┆ … ┆ null     ┆ null     ┆ 0.000083   ┆ 0.053607 │\n",
       "│ …          ┆ …        ┆ …         ┆ …          ┆ … ┆ …        ┆ …        ┆ …          ┆ …        │\n",
       "│ 2025-09-26 ┆ NTN-F    ┆ 950199    ┆ 2016-01-15 ┆ … ┆ 0.140261 ┆ 0.140067 ┆ 0.140176   ┆ 0.1404   │\n",
       "│ 2025-09-26 ┆ NTN-F    ┆ 950199    ┆ 2018-01-05 ┆ … ┆ 0.133821 ┆ 0.133658 ┆ 0.133736   ┆ 0.13233  │\n",
       "│ 2025-09-26 ┆ NTN-F    ┆ 950199    ┆ 2020-01-10 ┆ … ┆ 0.136306 ┆ 0.136171 ┆ 0.136234   ┆ 0.13433  │\n",
       "│ 2025-09-26 ┆ NTN-F    ┆ 950199    ┆ 2022-01-07 ┆ … ┆ 0.136706 ┆ 0.136531 ┆ 0.136624   ┆ 0.13525  │\n",
       "│ 2025-09-26 ┆ NTN-F    ┆ 950199    ┆ 2024-01-05 ┆ … ┆ 0.137001 ┆ 0.136867 ┆ 0.136926   ┆ 0.13502  │\n",
       "└────────────┴──────────┴───────────┴────────────┴───┴──────────┴──────────┴────────────┴──────────┘"
      ]
     },
     "execution_count": 1,
     "metadata": {},
     "output_type": "execute_result"
    }
   ],
   "source": [
    "import polars as pl\n",
    "\n",
    "df = pl.read_parquet(\"../data/anbima_tpf.parquet\")\n",
    "df"
   ]
  },
  {
   "cell_type": "code",
   "execution_count": 2,
   "metadata": {},
   "outputs": [
    {
     "data": {
      "text/plain": [
       "Schema([('ReferenceDate', Date),\n",
       "        ('BondType', String),\n",
       "        ('SelicCode', Int64),\n",
       "        ('IssueBaseDate', Date),\n",
       "        ('MaturityDate', Date),\n",
       "        ('BDToMat', Int64),\n",
       "        ('Duration', Float64),\n",
       "        ('DV01', Float64),\n",
       "        ('DV01USD', Float64),\n",
       "        ('Price', Float64),\n",
       "        ('BidRate', Float64),\n",
       "        ('AskRate', Float64),\n",
       "        ('IndicativeRate', Float64),\n",
       "        ('DIRate', Float64)])"
      ]
     },
     "execution_count": 2,
     "metadata": {},
     "output_type": "execute_result"
    }
   ],
   "source": [
    "df.schema"
   ]
  },
  {
   "cell_type": "code",
   "execution_count": null,
   "metadata": {},
   "outputs": [],
   "source": [
    "# df.write_parquet(\"../data/anbima_tpf_test.parquet\", compression=\"gzip\")"
   ]
  }
 ],
 "metadata": {
  "kernelspec": {
   "display_name": "pyield-data",
   "language": "python",
   "name": "python3"
  },
  "language_info": {
   "codemirror_mode": {
    "name": "ipython",
    "version": 3
   },
   "file_extension": ".py",
   "mimetype": "text/x-python",
   "name": "python",
   "nbconvert_exporter": "python",
   "pygments_lexer": "ipython3",
   "version": "3.13.7"
  }
 },
 "nbformat": 4,
 "nbformat_minor": 2
}
