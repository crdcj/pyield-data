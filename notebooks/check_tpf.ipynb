{
 "cells": [
  {
   "cell_type": "code",
   "execution_count": 1,
   "metadata": {},
   "outputs": [
    {
     "data": {
      "text/html": [
       "<div><style>\n",
       ".dataframe > thead > tr,\n",
       ".dataframe > tbody > tr {\n",
       "  text-align: right;\n",
       "  white-space: pre-wrap;\n",
       "}\n",
       "</style>\n",
       "<small>shape: (65_972, 14)</small><table border=\"1\" class=\"dataframe\"><thead><tr><th>ReferenceDate</th><th>BondType</th><th>SelicCode</th><th>IssueBaseDate</th><th>MaturityDate</th><th>BDToMat</th><th>Duration</th><th>DV01</th><th>DV01USD</th><th>Price</th><th>BidRate</th><th>AskRate</th><th>IndicativeRate</th><th>DIRate</th></tr><tr><td>date</td><td>str</td><td>i64</td><td>date</td><td>date</td><td>i64</td><td>f64</td><td>f64</td><td>f64</td><td>f64</td><td>f64</td><td>f64</td><td>f64</td><td>f64</td></tr></thead><tbody><tr><td>2020-01-02</td><td>&quot;LFT&quot;</td><td>210100</td><td>2000-07-01</td><td>2020-03-01</td><td>40</td><td>0.0</td><td>0.0</td><td>0.0</td><td>10471.849015</td><td>null</td><td>null</td><td>0.000023</td><td>0.04375</td></tr><tr><td>2020-01-02</td><td>&quot;LFT&quot;</td><td>210100</td><td>2000-07-01</td><td>2020-09-01</td><td>167</td><td>0.0</td><td>0.0</td><td>0.0</td><td>10471.723352</td><td>null</td><td>null</td><td>0.000023</td><td>0.04344</td></tr><tr><td>2020-01-02</td><td>&quot;LFT&quot;</td><td>210100</td><td>2000-07-01</td><td>2021-03-01</td><td>289</td><td>0.0</td><td>0.0</td><td>0.0</td><td>10471.356836</td><td>null</td><td>null</td><td>0.000044</td><td>0.046359</td></tr><tr><td>2020-01-02</td><td>&quot;LFT&quot;</td><td>210100</td><td>2000-07-01</td><td>2021-09-01</td><td>418</td><td>0.0</td><td>0.0</td><td>0.0</td><td>10470.917017</td><td>null</td><td>null</td><td>0.000056</td><td>0.050221</td></tr><tr><td>2020-01-02</td><td>&quot;LFT&quot;</td><td>210100</td><td>2000-07-01</td><td>2022-03-01</td><td>542</td><td>0.0</td><td>0.0</td><td>0.0</td><td>10470.016434</td><td>null</td><td>null</td><td>0.000083</td><td>0.053607</td></tr><tr><td>&hellip;</td><td>&hellip;</td><td>&hellip;</td><td>&hellip;</td><td>&hellip;</td><td>&hellip;</td><td>&hellip;</td><td>&hellip;</td><td>&hellip;</td><td>&hellip;</td><td>&hellip;</td><td>&hellip;</td><td>&hellip;</td><td>&hellip;</td></tr><tr><td>2025-10-27</td><td>&quot;NTN-F&quot;</td><td>950199</td><td>2016-01-15</td><td>2027-01-01</td><td>295</td><td>1.100549</td><td>0.09615</td><td>0.017891</td><td>994.101441</td><td>0.13796</td><td>0.13776</td><td>0.13786</td><td>0.13816</td></tr><tr><td>2025-10-27</td><td>&quot;NTN-F&quot;</td><td>950199</td><td>2018-01-05</td><td>2029-01-01</td><td>794</td><td>2.680482</td><td>0.22675</td><td>0.042193</td><td>957.337587</td><td>0.13179</td><td>0.131617</td><td>0.131699</td><td>0.13022</td></tr><tr><td>2025-10-27</td><td>&quot;NTN-F&quot;</td><td>950199</td><td>2020-01-10</td><td>2031-01-01</td><td>1295</td><td>3.942391</td><td>0.317145</td><td>0.059014</td><td>913.008372</td><td>0.135003</td><td>0.134903</td><td>0.134951</td><td>0.13287</td></tr><tr><td>2025-10-27</td><td>&quot;NTN-F&quot;</td><td>950199</td><td>2022-01-07</td><td>2033-01-01</td><td>1799</td><td>4.931717</td><td>0.381631</td><td>0.071013</td><td>879.148974</td><td>0.136224</td><td>0.135969</td><td>0.1361</td><td>0.13445</td></tr><tr><td>2025-10-27</td><td>&quot;NTN-F&quot;</td><td>950199</td><td>2024-01-05</td><td>2035-01-01</td><td>2298</td><td>5.682846</td><td>0.426685</td><td>0.079397</td><td>853.545941</td><td>0.136857</td><td>0.136737</td><td>0.136804</td><td>0.1347</td></tr></tbody></table></div>"
      ],
      "text/plain": [
       "shape: (65_972, 14)\n",
       "┌────────────┬──────────┬───────────┬────────────┬───┬──────────┬──────────┬────────────┬──────────┐\n",
       "│ ReferenceD ┆ BondType ┆ SelicCode ┆ IssueBaseD ┆ … ┆ BidRate  ┆ AskRate  ┆ Indicative ┆ DIRate   │\n",
       "│ ate        ┆ ---      ┆ ---       ┆ ate        ┆   ┆ ---      ┆ ---      ┆ Rate       ┆ ---      │\n",
       "│ ---        ┆ str      ┆ i64       ┆ ---        ┆   ┆ f64      ┆ f64      ┆ ---        ┆ f64      │\n",
       "│ date       ┆          ┆           ┆ date       ┆   ┆          ┆          ┆ f64        ┆          │\n",
       "╞════════════╪══════════╪═══════════╪════════════╪═══╪══════════╪══════════╪════════════╪══════════╡\n",
       "│ 2020-01-02 ┆ LFT      ┆ 210100    ┆ 2000-07-01 ┆ … ┆ null     ┆ null     ┆ 0.000023   ┆ 0.04375  │\n",
       "│ 2020-01-02 ┆ LFT      ┆ 210100    ┆ 2000-07-01 ┆ … ┆ null     ┆ null     ┆ 0.000023   ┆ 0.04344  │\n",
       "│ 2020-01-02 ┆ LFT      ┆ 210100    ┆ 2000-07-01 ┆ … ┆ null     ┆ null     ┆ 0.000044   ┆ 0.046359 │\n",
       "│ 2020-01-02 ┆ LFT      ┆ 210100    ┆ 2000-07-01 ┆ … ┆ null     ┆ null     ┆ 0.000056   ┆ 0.050221 │\n",
       "│ 2020-01-02 ┆ LFT      ┆ 210100    ┆ 2000-07-01 ┆ … ┆ null     ┆ null     ┆ 0.000083   ┆ 0.053607 │\n",
       "│ …          ┆ …        ┆ …         ┆ …          ┆ … ┆ …        ┆ …        ┆ …          ┆ …        │\n",
       "│ 2025-10-27 ┆ NTN-F    ┆ 950199    ┆ 2016-01-15 ┆ … ┆ 0.13796  ┆ 0.13776  ┆ 0.13786    ┆ 0.13816  │\n",
       "│ 2025-10-27 ┆ NTN-F    ┆ 950199    ┆ 2018-01-05 ┆ … ┆ 0.13179  ┆ 0.131617 ┆ 0.131699   ┆ 0.13022  │\n",
       "│ 2025-10-27 ┆ NTN-F    ┆ 950199    ┆ 2020-01-10 ┆ … ┆ 0.135003 ┆ 0.134903 ┆ 0.134951   ┆ 0.13287  │\n",
       "│ 2025-10-27 ┆ NTN-F    ┆ 950199    ┆ 2022-01-07 ┆ … ┆ 0.136224 ┆ 0.135969 ┆ 0.1361     ┆ 0.13445  │\n",
       "│ 2025-10-27 ┆ NTN-F    ┆ 950199    ┆ 2024-01-05 ┆ … ┆ 0.136857 ┆ 0.136737 ┆ 0.136804   ┆ 0.1347   │\n",
       "└────────────┴──────────┴───────────┴────────────┴───┴──────────┴──────────┴────────────┴──────────┘"
      ]
     },
     "execution_count": 1,
     "metadata": {},
     "output_type": "execute_result"
    }
   ],
   "source": [
    "import polars as pl\n",
    "\n",
    "df = pl.read_parquet(\"../data/anbima_tpf.parquet\")\n",
    "df"
   ]
  },
  {
   "cell_type": "code",
   "execution_count": null,
   "metadata": {},
   "outputs": [
    {
     "data": {
      "text/html": [
       "<div><style>\n",
       ".dataframe > thead > tr,\n",
       ".dataframe > tbody > tr {\n",
       "  text-align: right;\n",
       "  white-space: pre-wrap;\n",
       "}\n",
       "</style>\n",
       "<small>shape: (65_876, 14)</small><table border=\"1\" class=\"dataframe\"><thead><tr><th>ReferenceDate</th><th>BondType</th><th>SelicCode</th><th>IssueBaseDate</th><th>MaturityDate</th><th>BDToMat</th><th>Duration</th><th>DV01</th><th>DV01USD</th><th>Price</th><th>BidRate</th><th>AskRate</th><th>IndicativeRate</th><th>DIRate</th></tr><tr><td>date</td><td>str</td><td>i64</td><td>date</td><td>date</td><td>i64</td><td>f64</td><td>f64</td><td>f64</td><td>f64</td><td>f64</td><td>f64</td><td>f64</td><td>f64</td></tr></thead><tbody><tr><td>2020-01-02</td><td>&quot;LFT&quot;</td><td>210100</td><td>2000-07-01</td><td>2020-03-01</td><td>40</td><td>0.0</td><td>0.0</td><td>0.0</td><td>10471.849015</td><td>null</td><td>null</td><td>0.000023</td><td>0.04375</td></tr><tr><td>2020-01-02</td><td>&quot;LFT&quot;</td><td>210100</td><td>2000-07-01</td><td>2020-09-01</td><td>167</td><td>0.0</td><td>0.0</td><td>0.0</td><td>10471.723352</td><td>null</td><td>null</td><td>0.000023</td><td>0.04344</td></tr><tr><td>2020-01-02</td><td>&quot;LFT&quot;</td><td>210100</td><td>2000-07-01</td><td>2021-03-01</td><td>289</td><td>0.0</td><td>0.0</td><td>0.0</td><td>10471.356836</td><td>null</td><td>null</td><td>0.000044</td><td>0.046359</td></tr><tr><td>2020-01-02</td><td>&quot;LFT&quot;</td><td>210100</td><td>2000-07-01</td><td>2021-09-01</td><td>418</td><td>0.0</td><td>0.0</td><td>0.0</td><td>10470.917017</td><td>null</td><td>null</td><td>0.000056</td><td>0.050221</td></tr><tr><td>2020-01-02</td><td>&quot;LFT&quot;</td><td>210100</td><td>2000-07-01</td><td>2022-03-01</td><td>542</td><td>0.0</td><td>0.0</td><td>0.0</td><td>10470.016434</td><td>null</td><td>null</td><td>0.000083</td><td>0.053607</td></tr><tr><td>&hellip;</td><td>&hellip;</td><td>&hellip;</td><td>&hellip;</td><td>&hellip;</td><td>&hellip;</td><td>&hellip;</td><td>&hellip;</td><td>&hellip;</td><td>&hellip;</td><td>&hellip;</td><td>&hellip;</td><td>&hellip;</td><td>&hellip;</td></tr><tr><td>2025-10-23</td><td>&quot;NTN-F&quot;</td><td>950199</td><td>2016-01-15</td><td>2027-01-01</td><td>297</td><td>1.108456</td><td>0.09663</td><td>0.017949</td><td>992.476786</td><td>0.13859</td><td>0.138388</td><td>0.138487</td><td>0.13879</td></tr><tr><td>2025-10-23</td><td>&quot;NTN-F&quot;</td><td>950199</td><td>2018-01-05</td><td>2029-01-01</td><td>796</td><td>2.687679</td><td>0.226381</td><td>0.042049</td><td>954.082513</td><td>0.132838</td><td>0.132643</td><td>0.13272</td><td>0.13125</td></tr><tr><td>2025-10-23</td><td>&quot;NTN-F&quot;</td><td>950199</td><td>2020-01-10</td><td>2031-01-01</td><td>1297</td><td>3.946876</td><td>0.315348</td><td>0.058575</td><td>907.870715</td><td>0.136345</td><td>0.136228</td><td>0.136285</td><td>0.13416</td></tr><tr><td>2025-10-23</td><td>&quot;NTN-F&quot;</td><td>950199</td><td>2022-01-07</td><td>2033-01-01</td><td>1801</td><td>4.932115</td><td>0.378659</td><td>0.070334</td><td>873.243525</td><td>0.137548</td><td>0.137301</td><td>0.137419</td><td>0.13577</td></tr><tr><td>2025-10-23</td><td>&quot;NTN-F&quot;</td><td>950199</td><td>2024-01-05</td><td>2035-01-01</td><td>2300</td><td>5.677773</td><td>0.42256</td><td>0.078489</td><td>847.037794</td><td>0.138206</td><td>0.138063</td><td>0.138132</td><td>0.13602</td></tr></tbody></table></div>"
      ],
      "text/plain": [
       "shape: (65_876, 14)\n",
       "┌────────────┬──────────┬───────────┬────────────┬───┬──────────┬──────────┬────────────┬──────────┐\n",
       "│ ReferenceD ┆ BondType ┆ SelicCode ┆ IssueBaseD ┆ … ┆ BidRate  ┆ AskRate  ┆ Indicative ┆ DIRate   │\n",
       "│ ate        ┆ ---      ┆ ---       ┆ ate        ┆   ┆ ---      ┆ ---      ┆ Rate       ┆ ---      │\n",
       "│ ---        ┆ str      ┆ i64       ┆ ---        ┆   ┆ f64      ┆ f64      ┆ ---        ┆ f64      │\n",
       "│ date       ┆          ┆           ┆ date       ┆   ┆          ┆          ┆ f64        ┆          │\n",
       "╞════════════╪══════════╪═══════════╪════════════╪═══╪══════════╪══════════╪════════════╪══════════╡\n",
       "│ 2020-01-02 ┆ LFT      ┆ 210100    ┆ 2000-07-01 ┆ … ┆ null     ┆ null     ┆ 0.000023   ┆ 0.04375  │\n",
       "│ 2020-01-02 ┆ LFT      ┆ 210100    ┆ 2000-07-01 ┆ … ┆ null     ┆ null     ┆ 0.000023   ┆ 0.04344  │\n",
       "│ 2020-01-02 ┆ LFT      ┆ 210100    ┆ 2000-07-01 ┆ … ┆ null     ┆ null     ┆ 0.000044   ┆ 0.046359 │\n",
       "│ 2020-01-02 ┆ LFT      ┆ 210100    ┆ 2000-07-01 ┆ … ┆ null     ┆ null     ┆ 0.000056   ┆ 0.050221 │\n",
       "│ 2020-01-02 ┆ LFT      ┆ 210100    ┆ 2000-07-01 ┆ … ┆ null     ┆ null     ┆ 0.000083   ┆ 0.053607 │\n",
       "│ …          ┆ …        ┆ …         ┆ …          ┆ … ┆ …        ┆ …        ┆ …          ┆ …        │\n",
       "│ 2025-10-23 ┆ NTN-F    ┆ 950199    ┆ 2016-01-15 ┆ … ┆ 0.13859  ┆ 0.138388 ┆ 0.138487   ┆ 0.13879  │\n",
       "│ 2025-10-23 ┆ NTN-F    ┆ 950199    ┆ 2018-01-05 ┆ … ┆ 0.132838 ┆ 0.132643 ┆ 0.13272    ┆ 0.13125  │\n",
       "│ 2025-10-23 ┆ NTN-F    ┆ 950199    ┆ 2020-01-10 ┆ … ┆ 0.136345 ┆ 0.136228 ┆ 0.136285   ┆ 0.13416  │\n",
       "│ 2025-10-23 ┆ NTN-F    ┆ 950199    ┆ 2022-01-07 ┆ … ┆ 0.137548 ┆ 0.137301 ┆ 0.137419   ┆ 0.13577  │\n",
       "│ 2025-10-23 ┆ NTN-F    ┆ 950199    ┆ 2024-01-05 ┆ … ┆ 0.138206 ┆ 0.138063 ┆ 0.138132   ┆ 0.13602  │\n",
       "└────────────┴──────────┴───────────┴────────────┴───┴──────────┴──────────┴────────────┴──────────┘"
      ]
     },
     "execution_count": 3,
     "metadata": {},
     "output_type": "execute_result"
    }
   ],
   "source": [
    "from datetime import date\n",
    "\n",
    "df = df.filter(pl.col(\"ReferenceDate\") != date(2025, 10, 24))\n",
    "df"
   ]
  },
  {
   "cell_type": "code",
   "execution_count": null,
   "metadata": {},
   "outputs": [],
   "source": [
    "# df.write_parquet(\"../data/anbima_tpf_test.parquet\", compression=\"gzip\")"
   ]
  }
 ],
 "metadata": {
  "kernelspec": {
   "display_name": "pyield-data",
   "language": "python",
   "name": "python3"
  },
  "language_info": {
   "codemirror_mode": {
    "name": "ipython",
    "version": 3
   },
   "file_extension": ".py",
   "mimetype": "text/x-python",
   "name": "python",
   "nbconvert_exporter": "python",
   "pygments_lexer": "ipython3",
   "version": "3.13.9"
  }
 },
 "nbformat": 4,
 "nbformat_minor": 2
}
