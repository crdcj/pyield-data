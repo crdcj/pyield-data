{
 "cells": [
  {
   "cell_type": "code",
   "execution_count": 1,
   "metadata": {},
   "outputs": [
    {
     "data": {
      "text/html": [
       "<div><style>\n",
       ".dataframe > thead > tr,\n",
       ".dataframe > tbody > tr {\n",
       "  text-align: right;\n",
       "  white-space: pre-wrap;\n",
       "}\n",
       "</style>\n",
       "<small>shape: (222_330, 19)</small><table border=\"1\" class=\"dataframe\"><thead><tr><th>TradeDate</th><th>ExpirationDate</th><th>TickerSymbol</th><th>BDaysToExp</th><th>OpenContracts</th><th>TradeCount</th><th>TradeVolume</th><th>FinancialVolume</th><th>DV01</th><th>SettlementPrice</th><th>OpenRate</th><th>MinRate</th><th>AvgRate</th><th>MaxRate</th><th>CloseRate</th><th>CloseBidRate</th><th>CloseAskRate</th><th>SettlementRate</th><th>ForwardRate</th></tr><tr><td>date</td><td>date</td><td>str</td><td>i64</td><td>i64</td><td>i64</td><td>i64</td><td>i64</td><td>f64</td><td>f64</td><td>f64</td><td>f64</td><td>f64</td><td>f64</td><td>f64</td><td>f64</td><td>f64</td><td>f64</td><td>f64</td></tr></thead><tbody><tr><td>1995-01-02</td><td>1995-02-01</td><td>&quot;DI1FEV5&quot;</td><td>22</td><td>185169</td><td>340</td><td>45045</td><td>2180001225</td><td>0.56255</td><td>96766.31</td><td>null</td><td>0.44285</td><td>0.45276</td><td>0.46003</td><td>0.45485</td><td>null</td><td>null</td><td>0.45721</td><td>0.45721</td></tr><tr><td>1995-01-02</td><td>1995-03-01</td><td>&quot;DI1MAR5&quot;</td><td>40</td><td>12145</td><td>21</td><td>1590</td><td>74621000</td><td>1.019868</td><td>93869.01</td><td>null</td><td>0.48964</td><td>0.49035</td><td>0.49264</td><td>0.49014</td><td>null</td><td>null</td><td>0.48974</td><td>0.530487</td></tr><tr><td>1995-01-02</td><td>1995-04-03</td><td>&quot;DI1ABR5&quot;</td><td>63</td><td>150</td><td>0</td><td>0</td><td>0</td><td>1.636827</td><td>91025.65</td><td>null</td><td>null</td><td>null</td><td>null</td><td>null</td><td>null</td><td>null</td><td>0.45662</td><td>0.400764</td></tr><tr><td>1995-01-03</td><td>1995-02-01</td><td>&quot;DI1FEV5&quot;</td><td>21</td><td>193594</td><td>427</td><td>81175</td><td>3932939112</td><td>0.530598</td><td>96898.37</td><td>null</td><td>0.45559</td><td>0.45915</td><td>0.46463</td><td>0.45739</td><td>null</td><td>null</td><td>0.45949</td><td>0.45949</td></tr><tr><td>1995-01-03</td><td>1995-03-01</td><td>&quot;DI1MAR5&quot;</td><td>39</td><td>12295</td><td>96</td><td>13425</td><td>630682950</td><td>0.966267</td><td>93950.27</td><td>null</td><td>0.48643</td><td>0.49601</td><td>0.50184</td><td>0.49565</td><td>null</td><td>null</td><td>0.49665</td><td>0.541201</td></tr><tr><td>&hellip;</td><td>&hellip;</td><td>&hellip;</td><td>&hellip;</td><td>&hellip;</td><td>&hellip;</td><td>&hellip;</td><td>&hellip;</td><td>&hellip;</td><td>&hellip;</td><td>&hellip;</td><td>&hellip;</td><td>&hellip;</td><td>&hellip;</td><td>&hellip;</td><td>&hellip;</td><td>&hellip;</td><td>&hellip;</td><td>&hellip;</td></tr><tr><td>2025-09-26</td><td>2036-01-02</td><td>&quot;DI1F36&quot;</td><td>2568</td><td>54287</td><td>7</td><td>60</td><td>1664286</td><td>24.794149</td><td>27606.35</td><td>0.1341</td><td>0.1341</td><td>0.1341</td><td>0.1341</td><td>0.1341</td><td>0.13515</td><td>0.13475</td><td>0.13463</td><td>0.131004</td></tr><tr><td>2025-09-26</td><td>2037-01-02</td><td>&quot;DI1F37&quot;</td><td>2821</td><td>42722</td><td>1</td><td>2</td><td>48867</td><td>24.083481</td><td>24402.65</td><td>0.13415</td><td>0.13415</td><td>0.13415</td><td>0.13415</td><td>0.13415</td><td>0.1345</td><td>0.1343</td><td>0.13428</td><td>0.130734</td></tr><tr><td>2025-09-26</td><td>2038-01-04</td><td>&quot;DI1F38&quot;</td><td>3070</td><td>42530</td><td>41</td><td>102</td><td>2216293</td><td>23.311297</td><td>21692.4</td><td>0.1332</td><td>0.1331</td><td>0.13349</td><td>0.13365</td><td>0.13345</td><td>0.13405</td><td>0.1336</td><td>0.13365</td><td>0.126537</td></tr><tr><td>2025-09-26</td><td>2039-01-03</td><td>&quot;DI1F39&quot;</td><td>3321</td><td>20154</td><td>1</td><td>476</td><td>9181935</td><td>22.366963</td><td>19233.77</td><td>0.133</td><td>0.133</td><td>0.133</td><td>0.133</td><td>0.133</td><td>0.13425</td><td>0.1333</td><td>0.13325</td><td>0.128369</td></tr><tr><td>2025-09-26</td><td>2040-01-02</td><td>&quot;DI1F40&quot;</td><td>3572</td><td>37131</td><td>1</td><td>500</td><td>8538260</td><td>21.299085</td><td>17025.32</td><td>0.1328</td><td>0.1328</td><td>0.1328</td><td>0.1328</td><td>0.1328</td><td>0.1339</td><td>0.1331</td><td>0.13304</td><td>0.130265</td></tr></tbody></table></div>"
      ],
      "text/plain": [
       "shape: (222_330, 19)\n",
       "┌───────────┬───────────┬───────────┬───────────┬───┬───────────┬───────────┬───────────┬──────────┐\n",
       "│ TradeDate ┆ Expiratio ┆ TickerSym ┆ BDaysToEx ┆ … ┆ CloseBidR ┆ CloseAskR ┆ Settlemen ┆ ForwardR │\n",
       "│ ---       ┆ nDate     ┆ bol       ┆ p         ┆   ┆ ate       ┆ ate       ┆ tRate     ┆ ate      │\n",
       "│ date      ┆ ---       ┆ ---       ┆ ---       ┆   ┆ ---       ┆ ---       ┆ ---       ┆ ---      │\n",
       "│           ┆ date      ┆ str       ┆ i64       ┆   ┆ f64       ┆ f64       ┆ f64       ┆ f64      │\n",
       "╞═══════════╪═══════════╪═══════════╪═══════════╪═══╪═══════════╪═══════════╪═══════════╪══════════╡\n",
       "│ 1995-01-0 ┆ 1995-02-0 ┆ DI1FEV5   ┆ 22        ┆ … ┆ null      ┆ null      ┆ 0.45721   ┆ 0.45721  │\n",
       "│ 2         ┆ 1         ┆           ┆           ┆   ┆           ┆           ┆           ┆          │\n",
       "│ 1995-01-0 ┆ 1995-03-0 ┆ DI1MAR5   ┆ 40        ┆ … ┆ null      ┆ null      ┆ 0.48974   ┆ 0.530487 │\n",
       "│ 2         ┆ 1         ┆           ┆           ┆   ┆           ┆           ┆           ┆          │\n",
       "│ 1995-01-0 ┆ 1995-04-0 ┆ DI1ABR5   ┆ 63        ┆ … ┆ null      ┆ null      ┆ 0.45662   ┆ 0.400764 │\n",
       "│ 2         ┆ 3         ┆           ┆           ┆   ┆           ┆           ┆           ┆          │\n",
       "│ 1995-01-0 ┆ 1995-02-0 ┆ DI1FEV5   ┆ 21        ┆ … ┆ null      ┆ null      ┆ 0.45949   ┆ 0.45949  │\n",
       "│ 3         ┆ 1         ┆           ┆           ┆   ┆           ┆           ┆           ┆          │\n",
       "│ 1995-01-0 ┆ 1995-03-0 ┆ DI1MAR5   ┆ 39        ┆ … ┆ null      ┆ null      ┆ 0.49665   ┆ 0.541201 │\n",
       "│ 3         ┆ 1         ┆           ┆           ┆   ┆           ┆           ┆           ┆          │\n",
       "│ …         ┆ …         ┆ …         ┆ …         ┆ … ┆ …         ┆ …         ┆ …         ┆ …        │\n",
       "│ 2025-09-2 ┆ 2036-01-0 ┆ DI1F36    ┆ 2568      ┆ … ┆ 0.13515   ┆ 0.13475   ┆ 0.13463   ┆ 0.131004 │\n",
       "│ 6         ┆ 2         ┆           ┆           ┆   ┆           ┆           ┆           ┆          │\n",
       "│ 2025-09-2 ┆ 2037-01-0 ┆ DI1F37    ┆ 2821      ┆ … ┆ 0.1345    ┆ 0.1343    ┆ 0.13428   ┆ 0.130734 │\n",
       "│ 6         ┆ 2         ┆           ┆           ┆   ┆           ┆           ┆           ┆          │\n",
       "│ 2025-09-2 ┆ 2038-01-0 ┆ DI1F38    ┆ 3070      ┆ … ┆ 0.13405   ┆ 0.1336    ┆ 0.13365   ┆ 0.126537 │\n",
       "│ 6         ┆ 4         ┆           ┆           ┆   ┆           ┆           ┆           ┆          │\n",
       "│ 2025-09-2 ┆ 2039-01-0 ┆ DI1F39    ┆ 3321      ┆ … ┆ 0.13425   ┆ 0.1333    ┆ 0.13325   ┆ 0.128369 │\n",
       "│ 6         ┆ 3         ┆           ┆           ┆   ┆           ┆           ┆           ┆          │\n",
       "│ 2025-09-2 ┆ 2040-01-0 ┆ DI1F40    ┆ 3572      ┆ … ┆ 0.1339    ┆ 0.1331    ┆ 0.13304   ┆ 0.130265 │\n",
       "│ 6         ┆ 2         ┆           ┆           ┆   ┆           ┆           ┆           ┆          │\n",
       "└───────────┴───────────┴───────────┴───────────┴───┴───────────┴───────────┴───────────┴──────────┘"
      ]
     },
     "execution_count": 1,
     "metadata": {},
     "output_type": "execute_result"
    }
   ],
   "source": [
    "import polars as pl\n",
    "\n",
    "di_file = \"../data/b3_di.parquet\"\n",
    "df = pl.read_parquet(di_file)\n",
    "df"
   ]
  },
  {
   "cell_type": "code",
   "execution_count": null,
   "metadata": {},
   "outputs": [],
   "source": [
    "# df.write_parquet(di_file, compression=\"gzip\")"
   ]
  }
 ],
 "metadata": {
  "kernelspec": {
   "display_name": "pyield-data",
   "language": "python",
   "name": "python3"
  },
  "language_info": {
   "codemirror_mode": {
    "name": "ipython",
    "version": 3
   },
   "file_extension": ".py",
   "mimetype": "text/x-python",
   "name": "python",
   "nbconvert_exporter": "python",
   "pygments_lexer": "ipython3",
   "version": "3.13.7"
  }
 },
 "nbformat": 4,
 "nbformat_minor": 2
}
