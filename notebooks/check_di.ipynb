{
 "cells": [
  {
   "cell_type": "code",
   "execution_count": 1,
   "metadata": {},
   "outputs": [
    {
     "data": {
      "text/html": [
       "<div><style>\n",
       ".dataframe > thead > tr,\n",
       ".dataframe > tbody > tr {\n",
       "  text-align: right;\n",
       "  white-space: pre-wrap;\n",
       "}\n",
       "</style>\n",
       "<small>shape: (222_937, 19)</small><table border=\"1\" class=\"dataframe\"><thead><tr><th>TradeDate</th><th>ExpirationDate</th><th>TickerSymbol</th><th>BDaysToExp</th><th>OpenContracts</th><th>TradeCount</th><th>TradeVolume</th><th>FinancialVolume</th><th>DV01</th><th>SettlementPrice</th><th>OpenRate</th><th>MinRate</th><th>AvgRate</th><th>MaxRate</th><th>CloseRate</th><th>CloseBidRate</th><th>CloseAskRate</th><th>SettlementRate</th><th>ForwardRate</th></tr><tr><td>date</td><td>date</td><td>str</td><td>i64</td><td>i64</td><td>i64</td><td>i64</td><td>i64</td><td>f64</td><td>f64</td><td>f64</td><td>f64</td><td>f64</td><td>f64</td><td>f64</td><td>f64</td><td>f64</td><td>f64</td><td>f64</td></tr></thead><tbody><tr><td>1995-01-02</td><td>1995-02-01</td><td>&quot;DI1FEV5&quot;</td><td>22</td><td>185169</td><td>340</td><td>45045</td><td>2180001225</td><td>0.56255</td><td>96766.31</td><td>null</td><td>0.44285</td><td>0.45276</td><td>0.46003</td><td>0.45485</td><td>null</td><td>null</td><td>0.45721</td><td>0.45721</td></tr><tr><td>1995-01-02</td><td>1995-03-01</td><td>&quot;DI1MAR5&quot;</td><td>40</td><td>12145</td><td>21</td><td>1590</td><td>74621000</td><td>1.019868</td><td>93869.01</td><td>null</td><td>0.48964</td><td>0.49035</td><td>0.49264</td><td>0.49014</td><td>null</td><td>null</td><td>0.48974</td><td>0.530487</td></tr><tr><td>1995-01-02</td><td>1995-04-03</td><td>&quot;DI1ABR5&quot;</td><td>63</td><td>150</td><td>0</td><td>0</td><td>0</td><td>1.636827</td><td>91025.65</td><td>null</td><td>null</td><td>null</td><td>null</td><td>null</td><td>null</td><td>null</td><td>0.45662</td><td>0.400764</td></tr><tr><td>1995-01-03</td><td>1995-02-01</td><td>&quot;DI1FEV5&quot;</td><td>21</td><td>193594</td><td>427</td><td>81175</td><td>3932939112</td><td>0.530598</td><td>96898.37</td><td>null</td><td>0.45559</td><td>0.45915</td><td>0.46463</td><td>0.45739</td><td>null</td><td>null</td><td>0.45949</td><td>0.45949</td></tr><tr><td>1995-01-03</td><td>1995-03-01</td><td>&quot;DI1MAR5&quot;</td><td>39</td><td>12295</td><td>96</td><td>13425</td><td>630682950</td><td>0.966267</td><td>93950.27</td><td>null</td><td>0.48643</td><td>0.49601</td><td>0.50184</td><td>0.49565</td><td>null</td><td>null</td><td>0.49665</td><td>0.541201</td></tr><tr><td>&hellip;</td><td>&hellip;</td><td>&hellip;</td><td>&hellip;</td><td>&hellip;</td><td>&hellip;</td><td>&hellip;</td><td>&hellip;</td><td>&hellip;</td><td>&hellip;</td><td>&hellip;</td><td>&hellip;</td><td>&hellip;</td><td>&hellip;</td><td>&hellip;</td><td>&hellip;</td><td>&hellip;</td><td>&hellip;</td><td>&hellip;</td></tr><tr><td>2025-10-17</td><td>2036-01-02</td><td>&quot;DI1F36&quot;</td><td>2553</td><td>64599</td><td>0</td><td>0</td><td>0</td><td>24.186906</td><td>27152.92</td><td>null</td><td>null</td><td>null</td><td>null</td><td>null</td><td>0.1375</td><td>null</td><td>0.13733</td><td>0.134373</td></tr><tr><td>2025-10-17</td><td>2037-01-02</td><td>&quot;DI1F37&quot;</td><td>2806</td><td>47290</td><td>22</td><td>43</td><td>1029064</td><td>23.426852</td><td>23922.91</td><td>0.13725</td><td>0.13685</td><td>0.13703</td><td>0.13745</td><td>0.13685</td><td>0.1372</td><td>0.135</td><td>0.13707</td><td>0.13445</td></tr><tr><td>2025-10-17</td><td>2038-01-04</td><td>&quot;DI1F38&quot;</td><td>3055</td><td>43738</td><td>17</td><td>19</td><td>402478</td><td>22.639849</td><td>21222.38</td><td>0.1366</td><td>0.1365</td><td>0.13657</td><td>0.13665</td><td>0.1366</td><td>0.1368</td><td>null</td><td>0.1364</td><td>0.128877</td></tr><tr><td>2025-10-17</td><td>2039-01-03</td><td>&quot;DI1F39&quot;</td><td>3306</td><td>21217</td><td>0</td><td>0</td><td>0</td><td>21.631943</td><td>18734.26</td><td>null</td><td>null</td><td>null</td><td>null</td><td>null</td><td>null</td><td>null</td><td>0.13617</td><td>0.133374</td></tr><tr><td>2025-10-17</td><td>2040-01-02</td><td>&quot;DI1F40&quot;</td><td>3557</td><td>37621</td><td>0</td><td>0</td><td>0</td><td>20.528001</td><td>16521.93</td><td>null</td><td>null</td><td>null</td><td>null</td><td>null</td><td>null</td><td>null</td><td>0.13605</td><td>0.134471</td></tr></tbody></table></div>"
      ],
      "text/plain": [
       "shape: (222_937, 19)\n",
       "┌───────────┬───────────┬───────────┬───────────┬───┬───────────┬───────────┬───────────┬──────────┐\n",
       "│ TradeDate ┆ Expiratio ┆ TickerSym ┆ BDaysToEx ┆ … ┆ CloseBidR ┆ CloseAskR ┆ Settlemen ┆ ForwardR │\n",
       "│ ---       ┆ nDate     ┆ bol       ┆ p         ┆   ┆ ate       ┆ ate       ┆ tRate     ┆ ate      │\n",
       "│ date      ┆ ---       ┆ ---       ┆ ---       ┆   ┆ ---       ┆ ---       ┆ ---       ┆ ---      │\n",
       "│           ┆ date      ┆ str       ┆ i64       ┆   ┆ f64       ┆ f64       ┆ f64       ┆ f64      │\n",
       "╞═══════════╪═══════════╪═══════════╪═══════════╪═══╪═══════════╪═══════════╪═══════════╪══════════╡\n",
       "│ 1995-01-0 ┆ 1995-02-0 ┆ DI1FEV5   ┆ 22        ┆ … ┆ null      ┆ null      ┆ 0.45721   ┆ 0.45721  │\n",
       "│ 2         ┆ 1         ┆           ┆           ┆   ┆           ┆           ┆           ┆          │\n",
       "│ 1995-01-0 ┆ 1995-03-0 ┆ DI1MAR5   ┆ 40        ┆ … ┆ null      ┆ null      ┆ 0.48974   ┆ 0.530487 │\n",
       "│ 2         ┆ 1         ┆           ┆           ┆   ┆           ┆           ┆           ┆          │\n",
       "│ 1995-01-0 ┆ 1995-04-0 ┆ DI1ABR5   ┆ 63        ┆ … ┆ null      ┆ null      ┆ 0.45662   ┆ 0.400764 │\n",
       "│ 2         ┆ 3         ┆           ┆           ┆   ┆           ┆           ┆           ┆          │\n",
       "│ 1995-01-0 ┆ 1995-02-0 ┆ DI1FEV5   ┆ 21        ┆ … ┆ null      ┆ null      ┆ 0.45949   ┆ 0.45949  │\n",
       "│ 3         ┆ 1         ┆           ┆           ┆   ┆           ┆           ┆           ┆          │\n",
       "│ 1995-01-0 ┆ 1995-03-0 ┆ DI1MAR5   ┆ 39        ┆ … ┆ null      ┆ null      ┆ 0.49665   ┆ 0.541201 │\n",
       "│ 3         ┆ 1         ┆           ┆           ┆   ┆           ┆           ┆           ┆          │\n",
       "│ …         ┆ …         ┆ …         ┆ …         ┆ … ┆ …         ┆ …         ┆ …         ┆ …        │\n",
       "│ 2025-10-1 ┆ 2036-01-0 ┆ DI1F36    ┆ 2553      ┆ … ┆ 0.1375    ┆ null      ┆ 0.13733   ┆ 0.134373 │\n",
       "│ 7         ┆ 2         ┆           ┆           ┆   ┆           ┆           ┆           ┆          │\n",
       "│ 2025-10-1 ┆ 2037-01-0 ┆ DI1F37    ┆ 2806      ┆ … ┆ 0.1372    ┆ 0.135     ┆ 0.13707   ┆ 0.13445  │\n",
       "│ 7         ┆ 2         ┆           ┆           ┆   ┆           ┆           ┆           ┆          │\n",
       "│ 2025-10-1 ┆ 2038-01-0 ┆ DI1F38    ┆ 3055      ┆ … ┆ 0.1368    ┆ null      ┆ 0.1364    ┆ 0.128877 │\n",
       "│ 7         ┆ 4         ┆           ┆           ┆   ┆           ┆           ┆           ┆          │\n",
       "│ 2025-10-1 ┆ 2039-01-0 ┆ DI1F39    ┆ 3306      ┆ … ┆ null      ┆ null      ┆ 0.13617   ┆ 0.133374 │\n",
       "│ 7         ┆ 3         ┆           ┆           ┆   ┆           ┆           ┆           ┆          │\n",
       "│ 2025-10-1 ┆ 2040-01-0 ┆ DI1F40    ┆ 3557      ┆ … ┆ null      ┆ null      ┆ 0.13605   ┆ 0.134471 │\n",
       "│ 7         ┆ 2         ┆           ┆           ┆   ┆           ┆           ┆           ┆          │\n",
       "└───────────┴───────────┴───────────┴───────────┴───┴───────────┴───────────┴───────────┴──────────┘"
      ]
     },
     "execution_count": 1,
     "metadata": {},
     "output_type": "execute_result"
    }
   ],
   "source": [
    "import polars as pl\n",
    "\n",
    "di_file = \"../data/b3_di.parquet\"\n",
    "df = pl.read_parquet(di_file)\n",
    "df"
   ]
  },
  {
   "cell_type": "code",
   "execution_count": null,
   "metadata": {},
   "outputs": [],
   "source": [
    "# df.write_parquet(di_file, compression=\"gzip\")"
   ]
  }
 ],
 "metadata": {
  "kernelspec": {
   "display_name": "pyield-data",
   "language": "python",
   "name": "python3"
  },
  "language_info": {
   "codemirror_mode": {
    "name": "ipython",
    "version": 3
   },
   "file_extension": ".py",
   "mimetype": "text/x-python",
   "name": "python",
   "nbconvert_exporter": "python",
   "pygments_lexer": "ipython3",
   "version": "3.13.7"
  }
 },
 "nbformat": 4,
 "nbformat_minor": 2
}
