{
 "cells": [
  {
   "cell_type": "code",
   "execution_count": 1,
   "metadata": {},
   "outputs": [
    {
     "data": {
      "text/html": [
       "<div><style>\n",
       ".dataframe > thead > tr,\n",
       ".dataframe > tbody > tr {\n",
       "  text-align: right;\n",
       "  white-space: pre-wrap;\n",
       "}\n",
       "</style>\n",
       "<small>shape: (223_183, 19)</small><table border=\"1\" class=\"dataframe\"><thead><tr><th>TradeDate</th><th>ExpirationDate</th><th>TickerSymbol</th><th>BDaysToExp</th><th>OpenContracts</th><th>TradeCount</th><th>TradeVolume</th><th>FinancialVolume</th><th>DV01</th><th>SettlementPrice</th><th>OpenRate</th><th>MinRate</th><th>AvgRate</th><th>MaxRate</th><th>CloseRate</th><th>CloseBidRate</th><th>CloseAskRate</th><th>SettlementRate</th><th>ForwardRate</th></tr><tr><td>date</td><td>date</td><td>str</td><td>i64</td><td>i64</td><td>i64</td><td>i64</td><td>i64</td><td>f64</td><td>f64</td><td>f64</td><td>f64</td><td>f64</td><td>f64</td><td>f64</td><td>f64</td><td>f64</td><td>f64</td><td>f64</td></tr></thead><tbody><tr><td>1995-01-02</td><td>1995-02-01</td><td>&quot;DI1FEV5&quot;</td><td>22</td><td>185169</td><td>340</td><td>45045</td><td>2180001225</td><td>0.579728</td><td>96766.31</td><td>null</td><td>0.44285</td><td>0.45276</td><td>0.46003</td><td>0.45485</td><td>null</td><td>null</td><td>0.45721</td><td>0.45721</td></tr><tr><td>1995-01-02</td><td>1995-03-01</td><td>&quot;DI1MAR5&quot;</td><td>40</td><td>12145</td><td>21</td><td>1590</td><td>74621000</td><td>1.000164</td><td>93869.01</td><td>null</td><td>0.48964</td><td>0.49035</td><td>0.49264</td><td>0.49014</td><td>null</td><td>null</td><td>0.48974</td><td>0.530487</td></tr><tr><td>1995-01-02</td><td>1995-04-03</td><td>&quot;DI1ABR5&quot;</td><td>63</td><td>150</td><td>0</td><td>0</td><td>0</td><td>1.562275</td><td>91025.65</td><td>null</td><td>null</td><td>null</td><td>null</td><td>null</td><td>null</td><td>null</td><td>0.45662</td><td>0.400764</td></tr><tr><td>1995-01-03</td><td>1995-02-01</td><td>&quot;DI1FEV5&quot;</td><td>21</td><td>193594</td><td>427</td><td>81175</td><td>3932939112</td><td>0.553266</td><td>96898.37</td><td>null</td><td>0.45559</td><td>0.45915</td><td>0.46463</td><td>0.45739</td><td>null</td><td>null</td><td>0.45949</td><td>0.45949</td></tr><tr><td>1995-01-03</td><td>1995-03-01</td><td>&quot;DI1MAR5&quot;</td><td>39</td><td>12295</td><td>96</td><td>13425</td><td>630682950</td><td>0.971498</td><td>93950.27</td><td>null</td><td>0.48643</td><td>0.49601</td><td>0.50184</td><td>0.49565</td><td>null</td><td>null</td><td>0.49665</td><td>0.541201</td></tr><tr><td>&hellip;</td><td>&hellip;</td><td>&hellip;</td><td>&hellip;</td><td>&hellip;</td><td>&hellip;</td><td>&hellip;</td><td>&hellip;</td><td>&hellip;</td><td>&hellip;</td><td>&hellip;</td><td>&hellip;</td><td>&hellip;</td><td>&hellip;</td><td>&hellip;</td><td>&hellip;</td><td>&hellip;</td><td>&hellip;</td><td>&hellip;</td></tr><tr><td>2025-10-27</td><td>2036-01-02</td><td>&quot;DI1F36&quot;</td><td>2547</td><td>65501</td><td>3</td><td>6</td><td>167609</td><td>24.929574</td><td>27978.1</td><td>0.13445</td><td>0.13445</td><td>0.13448</td><td>0.13465</td><td>0.13445</td><td>null</td><td>null</td><td>0.13431</td><td>0.130717</td></tr><tr><td>2025-10-27</td><td>2037-01-02</td><td>&quot;DI1F37&quot;</td><td>2800</td><td>54143</td><td>157</td><td>187</td><td>4601971</td><td>24.200396</td><td>24701.32</td><td>0.1343</td><td>0.1341</td><td>0.13449</td><td>0.1347</td><td>0.1343</td><td>0.1354</td><td>0.13425</td><td>0.13411</td><td>0.132099</td></tr><tr><td>2025-10-27</td><td>2038-01-04</td><td>&quot;DI1F38&quot;</td><td>3049</td><td>43741</td><td>24</td><td>165</td><td>3618027</td><td>23.395125</td><td>21920.35</td><td>0.13365</td><td>0.1336</td><td>0.13361</td><td>0.13365</td><td>0.1336</td><td>null</td><td>null</td><td>0.13365</td><td>0.12849</td></tr><tr><td>2025-10-27</td><td>2039-01-03</td><td>&quot;DI1F39&quot;</td><td>3300</td><td>21217</td><td>8</td><td>9988</td><td>193512209</td><td>22.469599</td><td>19444.3</td><td>0.13365</td><td>0.1333</td><td>0.13352</td><td>0.13365</td><td>0.13355</td><td>null</td><td>null</td><td>0.13321</td><td>0.127879</td></tr><tr><td>2025-10-27</td><td>2040-01-02</td><td>&quot;DI1F40&quot;</td><td>3551</td><td>37621</td><td>8</td><td>10500</td><td>179786940</td><td>21.375463</td><td>17188.48</td><td>0.1335</td><td>0.1332</td><td>0.13341</td><td>0.1335</td><td>0.13345</td><td>null</td><td>null</td><td>0.13311</td><td>0.131796</td></tr></tbody></table></div>"
      ],
      "text/plain": [
       "shape: (223_183, 19)\n",
       "┌───────────┬───────────┬───────────┬───────────┬───┬───────────┬───────────┬───────────┬──────────┐\n",
       "│ TradeDate ┆ Expiratio ┆ TickerSym ┆ BDaysToEx ┆ … ┆ CloseBidR ┆ CloseAskR ┆ Settlemen ┆ ForwardR │\n",
       "│ ---       ┆ nDate     ┆ bol       ┆ p         ┆   ┆ ate       ┆ ate       ┆ tRate     ┆ ate      │\n",
       "│ date      ┆ ---       ┆ ---       ┆ ---       ┆   ┆ ---       ┆ ---       ┆ ---       ┆ ---      │\n",
       "│           ┆ date      ┆ str       ┆ i64       ┆   ┆ f64       ┆ f64       ┆ f64       ┆ f64      │\n",
       "╞═══════════╪═══════════╪═══════════╪═══════════╪═══╪═══════════╪═══════════╪═══════════╪══════════╡\n",
       "│ 1995-01-0 ┆ 1995-02-0 ┆ DI1FEV5   ┆ 22        ┆ … ┆ null      ┆ null      ┆ 0.45721   ┆ 0.45721  │\n",
       "│ 2         ┆ 1         ┆           ┆           ┆   ┆           ┆           ┆           ┆          │\n",
       "│ 1995-01-0 ┆ 1995-03-0 ┆ DI1MAR5   ┆ 40        ┆ … ┆ null      ┆ null      ┆ 0.48974   ┆ 0.530487 │\n",
       "│ 2         ┆ 1         ┆           ┆           ┆   ┆           ┆           ┆           ┆          │\n",
       "│ 1995-01-0 ┆ 1995-04-0 ┆ DI1ABR5   ┆ 63        ┆ … ┆ null      ┆ null      ┆ 0.45662   ┆ 0.400764 │\n",
       "│ 2         ┆ 3         ┆           ┆           ┆   ┆           ┆           ┆           ┆          │\n",
       "│ 1995-01-0 ┆ 1995-02-0 ┆ DI1FEV5   ┆ 21        ┆ … ┆ null      ┆ null      ┆ 0.45949   ┆ 0.45949  │\n",
       "│ 3         ┆ 1         ┆           ┆           ┆   ┆           ┆           ┆           ┆          │\n",
       "│ 1995-01-0 ┆ 1995-03-0 ┆ DI1MAR5   ┆ 39        ┆ … ┆ null      ┆ null      ┆ 0.49665   ┆ 0.541201 │\n",
       "│ 3         ┆ 1         ┆           ┆           ┆   ┆           ┆           ┆           ┆          │\n",
       "│ …         ┆ …         ┆ …         ┆ …         ┆ … ┆ …         ┆ …         ┆ …         ┆ …        │\n",
       "│ 2025-10-2 ┆ 2036-01-0 ┆ DI1F36    ┆ 2547      ┆ … ┆ null      ┆ null      ┆ 0.13431   ┆ 0.130717 │\n",
       "│ 7         ┆ 2         ┆           ┆           ┆   ┆           ┆           ┆           ┆          │\n",
       "│ 2025-10-2 ┆ 2037-01-0 ┆ DI1F37    ┆ 2800      ┆ … ┆ 0.1354    ┆ 0.13425   ┆ 0.13411   ┆ 0.132099 │\n",
       "│ 7         ┆ 2         ┆           ┆           ┆   ┆           ┆           ┆           ┆          │\n",
       "│ 2025-10-2 ┆ 2038-01-0 ┆ DI1F38    ┆ 3049      ┆ … ┆ null      ┆ null      ┆ 0.13365   ┆ 0.12849  │\n",
       "│ 7         ┆ 4         ┆           ┆           ┆   ┆           ┆           ┆           ┆          │\n",
       "│ 2025-10-2 ┆ 2039-01-0 ┆ DI1F39    ┆ 3300      ┆ … ┆ null      ┆ null      ┆ 0.13321   ┆ 0.127879 │\n",
       "│ 7         ┆ 3         ┆           ┆           ┆   ┆           ┆           ┆           ┆          │\n",
       "│ 2025-10-2 ┆ 2040-01-0 ┆ DI1F40    ┆ 3551      ┆ … ┆ null      ┆ null      ┆ 0.13311   ┆ 0.131796 │\n",
       "│ 7         ┆ 2         ┆           ┆           ┆   ┆           ┆           ┆           ┆          │\n",
       "└───────────┴───────────┴───────────┴───────────┴───┴───────────┴───────────┴───────────┴──────────┘"
      ]
     },
     "execution_count": 1,
     "metadata": {},
     "output_type": "execute_result"
    }
   ],
   "source": [
    "import polars as pl\n",
    "\n",
    "di_file = \"../data/b3_di.parquet\"\n",
    "df = pl.read_parquet(di_file)\n",
    "df"
   ]
  },
  {
   "cell_type": "code",
   "execution_count": null,
   "metadata": {},
   "outputs": [
    {
     "data": {
      "text/html": [
       "<div><style>\n",
       ".dataframe > thead > tr,\n",
       ".dataframe > tbody > tr {\n",
       "  text-align: right;\n",
       "  white-space: pre-wrap;\n",
       "}\n",
       "</style>\n",
       "<small>shape: (223_101, 19)</small><table border=\"1\" class=\"dataframe\"><thead><tr><th>TradeDate</th><th>ExpirationDate</th><th>TickerSymbol</th><th>BDaysToExp</th><th>OpenContracts</th><th>TradeCount</th><th>TradeVolume</th><th>FinancialVolume</th><th>DV01</th><th>SettlementPrice</th><th>OpenRate</th><th>MinRate</th><th>AvgRate</th><th>MaxRate</th><th>CloseRate</th><th>CloseBidRate</th><th>CloseAskRate</th><th>SettlementRate</th><th>ForwardRate</th></tr><tr><td>date</td><td>date</td><td>str</td><td>i64</td><td>i64</td><td>i64</td><td>i64</td><td>i64</td><td>f64</td><td>f64</td><td>f64</td><td>f64</td><td>f64</td><td>f64</td><td>f64</td><td>f64</td><td>f64</td><td>f64</td><td>f64</td></tr></thead><tbody><tr><td>1995-01-02</td><td>1995-02-01</td><td>&quot;DI1FEV5&quot;</td><td>22</td><td>185169</td><td>340</td><td>45045</td><td>2180001225</td><td>0.579728</td><td>96766.31</td><td>null</td><td>0.44285</td><td>0.45276</td><td>0.46003</td><td>0.45485</td><td>null</td><td>null</td><td>0.45721</td><td>0.45721</td></tr><tr><td>1995-01-02</td><td>1995-03-01</td><td>&quot;DI1MAR5&quot;</td><td>40</td><td>12145</td><td>21</td><td>1590</td><td>74621000</td><td>1.000164</td><td>93869.01</td><td>null</td><td>0.48964</td><td>0.49035</td><td>0.49264</td><td>0.49014</td><td>null</td><td>null</td><td>0.48974</td><td>0.530487</td></tr><tr><td>1995-01-02</td><td>1995-04-03</td><td>&quot;DI1ABR5&quot;</td><td>63</td><td>150</td><td>0</td><td>0</td><td>0</td><td>1.562275</td><td>91025.65</td><td>null</td><td>null</td><td>null</td><td>null</td><td>null</td><td>null</td><td>null</td><td>0.45662</td><td>0.400764</td></tr><tr><td>1995-01-03</td><td>1995-02-01</td><td>&quot;DI1FEV5&quot;</td><td>21</td><td>193594</td><td>427</td><td>81175</td><td>3932939112</td><td>0.553266</td><td>96898.37</td><td>null</td><td>0.45559</td><td>0.45915</td><td>0.46463</td><td>0.45739</td><td>null</td><td>null</td><td>0.45949</td><td>0.45949</td></tr><tr><td>1995-01-03</td><td>1995-03-01</td><td>&quot;DI1MAR5&quot;</td><td>39</td><td>12295</td><td>96</td><td>13425</td><td>630682950</td><td>0.971498</td><td>93950.27</td><td>null</td><td>0.48643</td><td>0.49601</td><td>0.50184</td><td>0.49565</td><td>null</td><td>null</td><td>0.49665</td><td>0.541201</td></tr><tr><td>&hellip;</td><td>&hellip;</td><td>&hellip;</td><td>&hellip;</td><td>&hellip;</td><td>&hellip;</td><td>&hellip;</td><td>&hellip;</td><td>&hellip;</td><td>&hellip;</td><td>&hellip;</td><td>&hellip;</td><td>&hellip;</td><td>&hellip;</td><td>&hellip;</td><td>&hellip;</td><td>&hellip;</td><td>&hellip;</td><td>&hellip;</td></tr><tr><td>2025-10-23</td><td>2036-01-02</td><td>&quot;DI1F36&quot;</td><td>2549</td><td>65501</td><td>8</td><td>15</td><td>413870</td><td>24.596861</td><td>27615.87</td><td>0.1362</td><td>0.1356</td><td>0.13576</td><td>0.1362</td><td>0.1356</td><td>null</td><td>null</td><td>0.13566</td><td>0.13234</td></tr><tr><td>2025-10-23</td><td>2037-01-02</td><td>&quot;DI1F37&quot;</td><td>2802</td><td>54239</td><td>16</td><td>23</td><td>558778</td><td>23.852298</td><td>24357.17</td><td>0.1356</td><td>0.1356</td><td>0.1357</td><td>0.13585</td><td>0.1357</td><td>0.13545</td><td>0.13525</td><td>0.13544</td><td>0.133226</td></tr><tr><td>2025-10-23</td><td>2038-01-04</td><td>&quot;DI1F38&quot;</td><td>3051</td><td>43741</td><td>1</td><td>1</td><td>21562</td><td>23.065107</td><td>21619.83</td><td>0.1351</td><td>0.1351</td><td>0.1351</td><td>0.1351</td><td>0.1351</td><td>null</td><td>null</td><td>0.13485</td><td>0.128232</td></tr><tr><td>2025-10-23</td><td>2039-01-03</td><td>&quot;DI1F39&quot;</td><td>3302</td><td>21217</td><td>0</td><td>0</td><td>0</td><td>22.078686</td><td>19117.7</td><td>null</td><td>null</td><td>null</td><td>null</td><td>null</td><td>null</td><td>null</td><td>0.13459</td><td>0.131434</td></tr><tr><td>2025-10-23</td><td>2040-01-02</td><td>&quot;DI1F40&quot;</td><td>3553</td><td>37621</td><td>0</td><td>0</td><td>0</td><td>20.982809</td><td>16883.48</td><td>null</td><td>null</td><td>null</td><td>null</td><td>null</td><td>null</td><td>null</td><td>0.13447</td><td>0.132893</td></tr></tbody></table></div>"
      ],
      "text/plain": [
       "shape: (223_101, 19)\n",
       "┌───────────┬───────────┬───────────┬───────────┬───┬───────────┬───────────┬───────────┬──────────┐\n",
       "│ TradeDate ┆ Expiratio ┆ TickerSym ┆ BDaysToEx ┆ … ┆ CloseBidR ┆ CloseAskR ┆ Settlemen ┆ ForwardR │\n",
       "│ ---       ┆ nDate     ┆ bol       ┆ p         ┆   ┆ ate       ┆ ate       ┆ tRate     ┆ ate      │\n",
       "│ date      ┆ ---       ┆ ---       ┆ ---       ┆   ┆ ---       ┆ ---       ┆ ---       ┆ ---      │\n",
       "│           ┆ date      ┆ str       ┆ i64       ┆   ┆ f64       ┆ f64       ┆ f64       ┆ f64      │\n",
       "╞═══════════╪═══════════╪═══════════╪═══════════╪═══╪═══════════╪═══════════╪═══════════╪══════════╡\n",
       "│ 1995-01-0 ┆ 1995-02-0 ┆ DI1FEV5   ┆ 22        ┆ … ┆ null      ┆ null      ┆ 0.45721   ┆ 0.45721  │\n",
       "│ 2         ┆ 1         ┆           ┆           ┆   ┆           ┆           ┆           ┆          │\n",
       "│ 1995-01-0 ┆ 1995-03-0 ┆ DI1MAR5   ┆ 40        ┆ … ┆ null      ┆ null      ┆ 0.48974   ┆ 0.530487 │\n",
       "│ 2         ┆ 1         ┆           ┆           ┆   ┆           ┆           ┆           ┆          │\n",
       "│ 1995-01-0 ┆ 1995-04-0 ┆ DI1ABR5   ┆ 63        ┆ … ┆ null      ┆ null      ┆ 0.45662   ┆ 0.400764 │\n",
       "│ 2         ┆ 3         ┆           ┆           ┆   ┆           ┆           ┆           ┆          │\n",
       "│ 1995-01-0 ┆ 1995-02-0 ┆ DI1FEV5   ┆ 21        ┆ … ┆ null      ┆ null      ┆ 0.45949   ┆ 0.45949  │\n",
       "│ 3         ┆ 1         ┆           ┆           ┆   ┆           ┆           ┆           ┆          │\n",
       "│ 1995-01-0 ┆ 1995-03-0 ┆ DI1MAR5   ┆ 39        ┆ … ┆ null      ┆ null      ┆ 0.49665   ┆ 0.541201 │\n",
       "│ 3         ┆ 1         ┆           ┆           ┆   ┆           ┆           ┆           ┆          │\n",
       "│ …         ┆ …         ┆ …         ┆ …         ┆ … ┆ …         ┆ …         ┆ …         ┆ …        │\n",
       "│ 2025-10-2 ┆ 2036-01-0 ┆ DI1F36    ┆ 2549      ┆ … ┆ null      ┆ null      ┆ 0.13566   ┆ 0.13234  │\n",
       "│ 3         ┆ 2         ┆           ┆           ┆   ┆           ┆           ┆           ┆          │\n",
       "│ 2025-10-2 ┆ 2037-01-0 ┆ DI1F37    ┆ 2802      ┆ … ┆ 0.13545   ┆ 0.13525   ┆ 0.13544   ┆ 0.133226 │\n",
       "│ 3         ┆ 2         ┆           ┆           ┆   ┆           ┆           ┆           ┆          │\n",
       "│ 2025-10-2 ┆ 2038-01-0 ┆ DI1F38    ┆ 3051      ┆ … ┆ null      ┆ null      ┆ 0.13485   ┆ 0.128232 │\n",
       "│ 3         ┆ 4         ┆           ┆           ┆   ┆           ┆           ┆           ┆          │\n",
       "│ 2025-10-2 ┆ 2039-01-0 ┆ DI1F39    ┆ 3302      ┆ … ┆ null      ┆ null      ┆ 0.13459   ┆ 0.131434 │\n",
       "│ 3         ┆ 3         ┆           ┆           ┆   ┆           ┆           ┆           ┆          │\n",
       "│ 2025-10-2 ┆ 2040-01-0 ┆ DI1F40    ┆ 3553      ┆ … ┆ null      ┆ null      ┆ 0.13447   ┆ 0.132893 │\n",
       "│ 3         ┆ 2         ┆           ┆           ┆   ┆           ┆           ┆           ┆          │\n",
       "└───────────┴───────────┴───────────┴───────────┴───┴───────────┴───────────┴───────────┴──────────┘"
      ]
     },
     "execution_count": 4,
     "metadata": {},
     "output_type": "execute_result"
    }
   ],
   "source": [
    "from datetime import date\n",
    "\n",
    "df = df.filter(pl.col(\"TradeDate\") != date(2025, 10, 24))\n",
    "df"
   ]
  },
  {
   "cell_type": "code",
   "execution_count": null,
   "metadata": {},
   "outputs": [],
   "source": [
    "# df.write_parquet(di_file, compression=\"gzip\")"
   ]
  }
 ],
 "metadata": {
  "kernelspec": {
   "display_name": "pyield-data",
   "language": "python",
   "name": "python3"
  },
  "language_info": {
   "codemirror_mode": {
    "name": "ipython",
    "version": 3
   },
   "file_extension": ".py",
   "mimetype": "text/x-python",
   "name": "python",
   "nbconvert_exporter": "python",
   "pygments_lexer": "ipython3",
   "version": "3.13.9"
  }
 },
 "nbformat": 4,
 "nbformat_minor": 2
}
